{
 "cells": [
  {
   "cell_type": "code",
   "execution_count": null,
   "metadata": {},
   "outputs": [],
   "source": [
    "# creating tree node\n",
    "class Nodetree(object):\n",
    "    def __init__(self,left=None,right=None):\n",
    "        self.left=left\n",
    "        self.right=right\n",
    "    def children(self):\n",
    "        return (self.left,self.right)\n",
    "    def nodes(self):\n",
    "        return (self.left,self.right)\n",
    "    def __str__(self):\n",
    "        return '%s_%s'%(self.left,self.right)\n",
    "#main function implementing huffman-coding\n",
    "def huffman_code_tree(node,left=True,binstring=''):\n",
    "    if type(node) is str:\n",
    "        return {node:binstring}\n",
    "    (l,r)=node.children()\n",
    "    d=dict()\n",
    "    d.update(huffman_code_tree(l, True, binstring+'0'))\n",
    "    d.update(huffman_code_tree(r, False, binstring+'1'))\n",
    "    return d\n",
    "#calculating frequency\n",
    "freq={}\n",
    "for c in string:\n",
    "    if c in freq:\n",
    "        freq[c]+=1\n",
    "    else:\n",
    "        freq[c]=1\n",
    "freq=sorted(freq.items(),key=lambda x:x[1],reverse=True)\n",
    "nodes=freq\n",
    "while len(nodes)>1:\n",
    "    (key1,c1)=nodes[-1]\n",
    "    (key2,c2)=nodes[-2]\n",
    "    nodes=nodes[:-2]\n",
    "    node= Nodetree(key1,key2)\n",
    "    nodes.append((nodes,c1+c2))\n",
    "    nodes= sorted(nodes,key=lambda x:x[1],reverse=True)\n",
    "huffmanCode= huffman_code_tree(nodes[0][0])\n",
    "\n",
    "print('char / Huffman code')\n",
    "print('-------------------')\n",
    "for (char,frequency ) in freq:\n",
    "    print(' %-4r / %12s'%(char, huffmanCode[char]))"
   ]
  }
 ],
 "metadata": {
  "kernelspec": {
   "display_name": "Python 3",
   "language": "python",
   "name": "python3"
  },
  "language_info": {
   "codemirror_mode": {
    "name": "ipython",
    "version": 3
   },
   "file_extension": ".py",
   "mimetype": "text/x-python",
   "name": "python",
   "nbconvert_exporter": "python",
   "pygments_lexer": "ipython3",
   "version": "3.8.5"
  }
 },
 "nbformat": 4,
 "nbformat_minor": 4
}
