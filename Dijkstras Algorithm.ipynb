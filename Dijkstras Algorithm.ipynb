{
 "cells": [
  {
   "cell_type": "code",
   "execution_count": 1,
   "metadata": {},
   "outputs": [],
   "source": [
    "Alist={\n",
    "    0:[(1,10),(2,80)],\n",
    "    1:[(0,10),(2,6),(4,20)],\n",
    "    2:[(0,10),(1,6),(3,70)],\n",
    "    3:[(2,70)],\n",
    "    4:[(1,20),(6,5),(5,50)],\n",
    "    5:[(4,50),(6,10)],\n",
    "    6:[(4,5),(5,10)],\n",
    "}"
   ]
  },
  {
   "cell_type": "code",
   "execution_count": 6,
   "metadata": {},
   "outputs": [
    {
     "data": {
      "text/plain": [
       "7"
      ]
     },
     "execution_count": 6,
     "metadata": {},
     "output_type": "execute_result"
    }
   ],
   "source": [
    "len(Alist.keys())"
   ]
  },
  {
   "cell_type": "code",
   "execution_count": 3,
   "metadata": {},
   "outputs": [
    {
     "data": {
      "text/plain": [
       "[(0, 10), (2, 6), (4, 20)]"
      ]
     },
     "execution_count": 3,
     "metadata": {},
     "output_type": "execute_result"
    }
   ],
   "source": [
    "Alist[1] "
   ]
  },
  {
   "cell_type": "code",
   "execution_count": 4,
   "metadata": {},
   "outputs": [],
   "source": [
    "def dijlist(Alist,s):\n",
    "    infi=1+len(Alist.keys())*max([d for u in Alist.keys() for (v,d) in Alist[u]])\n",
    "    (visited,distance)=({},{})\n",
    "    for v in Alist.keys():\n",
    "        (visited[v],distance[v])=(False,infi)\n",
    "    distance[s]=0\n",
    "    for u in Alist.keys():\n",
    "        nextd=min([distance[v] for v in Alist.keys() if (not visited[v])])\n",
    "        nextvlist=[v for v in Alist.keys() if (not visited[v]) and distance[v]==nextd]\n",
    "        if nextvlist==[]:\n",
    "            break\n",
    "        nextv=min(nextvlist)\n",
    "        visited[nextv]=True\n",
    "        for (v,d) in Alist[nextv]:\n",
    "            if not visited[v]:\n",
    "                distance[v]=min(distance[v],distance[nextv]+d)\n",
    "    return distance"
   ]
  },
  {
   "cell_type": "code",
   "execution_count": 10,
   "metadata": {},
   "outputs": [
    {
     "name": "stdout",
     "output_type": "stream",
     "text": [
      "0 10\n",
      "2 6\n",
      "4 20\n"
     ]
    }
   ],
   "source": [
    "for (v,d) in Alist[1]:\n",
    "    print(v,d)"
   ]
  },
  {
   "cell_type": "code",
   "execution_count": 8,
   "metadata": {},
   "outputs": [
    {
     "name": "stdout",
     "output_type": "stream",
     "text": [
      "v :  0\n",
      "v :  1\n",
      "v :  2\n",
      "v :  3\n",
      "v :  4\n",
      "v :  5\n",
      "v :  6\n"
     ]
    }
   ],
   "source": [
    "for v in Alist.keys():\n",
    "    print(\"v : \",v)"
   ]
  },
  {
   "cell_type": "code",
   "execution_count": 5,
   "metadata": {},
   "outputs": [
    {
     "data": {
      "text/plain": [
       "{0: 10, 1: 0, 2: 6, 3: 76, 4: 20, 5: 35, 6: 25}"
      ]
     },
     "execution_count": 5,
     "metadata": {},
     "output_type": "execute_result"
    }
   ],
   "source": [
    "dijlist(Alist,1)"
   ]
  }
 ],
 "metadata": {
  "kernelspec": {
   "display_name": "Python 3",
   "language": "python",
   "name": "python3"
  },
  "language_info": {
   "codemirror_mode": {
    "name": "ipython",
    "version": 3
   },
   "file_extension": ".py",
   "mimetype": "text/x-python",
   "name": "python",
   "nbconvert_exporter": "python",
   "pygments_lexer": "ipython3",
   "version": "3.8.5"
  }
 },
 "nbformat": 4,
 "nbformat_minor": 4
}
