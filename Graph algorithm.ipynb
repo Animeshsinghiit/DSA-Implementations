{
 "cells": [
  {
   "cell_type": "markdown",
   "metadata": {},
   "source": [
    "# Breadth first Search \n",
    " - The Time complexity of BFS is O(V + E) when Adjacency List is used and O(V^2) when Adjacency Matrix is used, where V stands for vertices and E stands for edges\n",
    " "
   ]
  },
  {
   "cell_type": "code",
   "execution_count": 1,
   "metadata": {},
   "outputs": [
    {
     "name": "stdout",
     "output_type": "stream",
     "text": [
      "Following is Breadth First Traversal (starting from vertex 2)\n",
      "2 0 3 1 "
     ]
    }
   ],
   "source": [
    "# Python3 Program to print BFS traversal\n",
    "# from a given source vertex. BFS(int s)\n",
    "# traverses vertices reachable from s.\n",
    "from collections import defaultdict \n",
    "# This class represents a directed graph\n",
    "# using adjacency list representation\n",
    "class Graph:\n",
    "    # Constructor\n",
    "    def __init__(self):\n",
    "        # default dictionary to store graph\n",
    "        self.graph = defaultdict(list)\n",
    "    # function to add an edge to graph\n",
    "    def addEdge(self,u,v):\n",
    "        self.graph[u].append(v) \n",
    "    # Function to print a BFS of graph\n",
    "    def BFS(self, s):\n",
    "        # Mark all the vertices as not visited\n",
    "        visited = [False] * (max(self.graph) + 1)\n",
    "        # Create a queue for BFS\n",
    "        queue = []\n",
    "        # Mark the source node as\n",
    "        # visited and enqueue it\n",
    "        queue.append(s)\n",
    "        visited[s] = True\n",
    "        while queue:\n",
    "            # Dequeue a vertex from\n",
    "            # queue and print it\n",
    "            s = queue.pop(0)\n",
    "            print (s, end = \" \")\n",
    "            # Get all adjacent vertices of the\n",
    "            # dequeued vertex s. If a adjacent\n",
    "            # has not been visited, then mark it\n",
    "            # visited and enqueue it\n",
    "            for i in self.graph[s]:\n",
    "                if visited[i] == False:\n",
    "                    queue.append(i)\n",
    "                    visited[i] = True\n",
    "# Driver code\n",
    " \n",
    "# Create a graph given in\n",
    "# the above diagram\n",
    "g = Graph()\n",
    "g.addEdge(0, 1)\n",
    "g.addEdge(0, 2)\n",
    "g.addEdge(1, 2)\n",
    "g.addEdge(2, 0)\n",
    "g.addEdge(2, 3)\n",
    "g.addEdge(3, 3)\n",
    " \n",
    "print (\"Following is Breadth First Traversal\"\n",
    "                  \" (starting from vertex 2)\")\n",
    "g.BFS(2)\n",
    " "
   ]
  },
  {
   "cell_type": "markdown",
   "metadata": {},
   "source": [
    "# Depth first Search\n",
    " - **Time complexity**: O(V + E), where V is the number of vertices and E is the number of edges in the graph.\n",
    " - **Space Complexity**: O(V), since an extra visited array of size V is required."
   ]
  },
  {
   "cell_type": "code",
   "execution_count": 2,
   "metadata": {},
   "outputs": [
    {
     "name": "stdout",
     "output_type": "stream",
     "text": [
      "Following is DFS from (starting from vertex 2)\n",
      "2 0 1 3 "
     ]
    }
   ],
   "source": [
    "# Python3 program to print DFS traversal\n",
    "# from a given given graph\n",
    "from collections import defaultdict \n",
    "# This class represents a directed graph using\n",
    "# adjacency list representation\n",
    "class Graph:\n",
    "    # Constructor\n",
    "    def __init__(self):\n",
    "        # default dictionary to store graph\n",
    "        self.graph = defaultdict(list)\n",
    "    # function to add an edge to graph\n",
    "    def addEdge(self, u, v):\n",
    "        self.graph[u].append(v)\n",
    "    # A function used by DFS\n",
    "    def DFSUtil(self, v, visited):\n",
    "        # Mark the current node as visited\n",
    "        # and print it\n",
    "        visited.add(v)\n",
    "        print(v, end=' ')\n",
    "        # Recur for all the vertices\n",
    "        # adjacent to this vertex\n",
    "        for neighbour in self.graph[v]:\n",
    "            if neighbour not in visited:\n",
    "                self.DFSUtil(neighbour, visited)\n",
    "    # The function to do DFS traversal. It uses\n",
    "    # recursive DFSUtil()\n",
    "    def DFS(self, v):\n",
    "        # Create a set to store visited vertices\n",
    "        visited = set()\n",
    "        # Call the recursive helper function\n",
    "        # to print DFS traversal\n",
    "        self.DFSUtil(v, visited)\n",
    "# Driver code\n",
    "# Create a graph given\n",
    "# in the above diagram\n",
    "g = Graph()\n",
    "g.addEdge(0, 1)\n",
    "g.addEdge(0, 2)\n",
    "g.addEdge(1, 2)\n",
    "g.addEdge(2, 0)\n",
    "g.addEdge(2, 3)\n",
    "g.addEdge(3, 3)\n",
    " \n",
    "print(\"Following is DFS from (starting from vertex 2)\")\n",
    "g.DFS(2)"
   ]
  },
  {
   "cell_type": "markdown",
   "metadata": {},
   "source": [
    "# Topological sorting\n"
   ]
  },
  {
   "cell_type": "code",
   "execution_count": 5,
   "metadata": {},
   "outputs": [
    {
     "name": "stdout",
     "output_type": "stream",
     "text": [
      "Following is a Topological Sort of the given graph\n",
      "[5, 4, 2, 3, 1, 0]\n"
     ]
    }
   ],
   "source": [
    "#Python program to print topological sorting of a DAG\n",
    "from collections import defaultdict\n",
    " \n",
    "#Class to represent a graph\n",
    "class Graph:\n",
    "    def __init__(self,vertices):\n",
    "        self.graph = defaultdict(list) #dictionary containing adjacency List\n",
    "        self.V = vertices #No. of vertices\n",
    " \n",
    "    # function to add an edge to graph\n",
    "    def addEdge(self,u,v):\n",
    "        self.graph[u].append(v)\n",
    " \n",
    "    # A recursive function used by topologicalSort\n",
    "    def topologicalSortUtil(self,v,visited,stack):\n",
    " \n",
    "        # Mark the current node as visited.\n",
    "        visited[v] = True\n",
    " \n",
    "        # Recur for all the vertices adjacent to this vertex\n",
    "        for i in self.graph[v]:\n",
    "            if visited[i] == False:\n",
    "                self.topologicalSortUtil(i,visited,stack)\n",
    " \n",
    "        # Push current vertex to stack which stores result\n",
    "        stack.insert(0,v)\n",
    " \n",
    "    # The function to do Topological Sort. It uses recursive\n",
    "    # topologicalSortUtil()\n",
    "    def topologicalSort(self):\n",
    "        # Mark all the vertices as not visited\n",
    "        visited = [False]*self.V\n",
    "        stack =[]\n",
    " \n",
    "        # Call the recursive helper function to store Topological\n",
    "        # Sort starting from all vertices one by one\n",
    "        for i in range(self.V):\n",
    "            if visited[i] == False:\n",
    "                self.topologicalSortUtil(i,visited,stack)\n",
    " \n",
    "        # Print contents of stack\n",
    "        print (stack)\n",
    " \n",
    "g= Graph(6)\n",
    "g.addEdge(5, 2);\n",
    "g.addEdge(5, 0);\n",
    "g.addEdge(4, 0);\n",
    "g.addEdge(4, 1);\n",
    "g.addEdge(2, 3);\n",
    "g.addEdge(3, 1);\n",
    " \n",
    "print (\"Following is a Topological Sort of the given graph\")\n",
    "g.topologicalSort()"
   ]
  }
 ],
 "metadata": {
  "kernelspec": {
   "display_name": "Python 3",
   "language": "python",
   "name": "python3"
  },
  "language_info": {
   "codemirror_mode": {
    "name": "ipython",
    "version": 3
   },
   "file_extension": ".py",
   "mimetype": "text/x-python",
   "name": "python",
   "nbconvert_exporter": "python",
   "pygments_lexer": "ipython3",
   "version": "3.8.5"
  }
 },
 "nbformat": 4,
 "nbformat_minor": 4
}
