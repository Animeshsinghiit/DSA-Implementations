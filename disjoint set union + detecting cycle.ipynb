{
 "cells": [
  {
   "cell_type": "code",
   "execution_count": null,
   "metadata": {},
   "outputs": [],
   "source": [
    "class disjointset:\n",
    "    parent=[0,1,2]\n",
    "    def find_parent(self,a):\n",
    "        if a==self.parent[a]:\n",
    "            return a\n",
    "        if a!=self.parent[a]:\n",
    "            return self.find_parent(self.parent[a])\n",
    "    def union(self,x,y):\n",
    "        self.parent(x)=y\n",
    "\n",
    "ds=disjointset()\n",
    "graph_undirected={\n",
    "    0:[1,2],\n",
    "    1:[2],\n",
    "    2:[]\n",
    "}\n",
    "no_of_cycle=0\n",
    "for i in graph:\n",
    "    for j in graph[i]:\n",
    "        x=ds.find_parent(i)\n",
    "        y=ds.find_parent(j)\n",
    "        if x==y:\n",
    "            no_of_cycle+=1\n",
    "        ds.union(x,y)\n",
    "            \n",
    "        "
   ]
  }
 ],
 "metadata": {
  "kernelspec": {
   "display_name": "Python 3",
   "language": "python",
   "name": "python3"
  },
  "language_info": {
   "codemirror_mode": {
    "name": "ipython",
    "version": 3
   },
   "file_extension": ".py",
   "mimetype": "text/x-python",
   "name": "python",
   "nbconvert_exporter": "python",
   "pygments_lexer": "ipython3",
   "version": "3.8.5"
  }
 },
 "nbformat": 4,
 "nbformat_minor": 4
}
