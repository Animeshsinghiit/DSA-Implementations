{
 "cells": [
  {
   "cell_type": "markdown",
   "metadata": {},
   "source": [
    "# Topological Sorting\n",
    " > Time Complexity:\n",
    "  > - **AdjacencyMatirx** : O(n^2)\n",
    "  > - **AdjacencyList** : O(m+n)"
   ]
  },
  {
   "cell_type": "code",
   "execution_count": 1,
   "metadata": {},
   "outputs": [],
   "source": [
    "# A Matrix code\n",
    "def topsortmat(Amat):\n",
    "    (rows,cols)=Amat.shape\n",
    "    indegree={}\n",
    "    toplistsort=[]\n",
    "    for c in range(cols):\n",
    "        indegree[c]=0\n",
    "        for r in range(rows):\n",
    "            if Amat[r,c]==1:\n",
    "                indegree[c]+=1\n",
    "    for i in range(rows):\n",
    "        j=min([k for k in range(rows) if indegree[k]==0])\n",
    "        toplistsort.append(j)\n",
    "        indegree[j]-=1\n",
    "        for k in range(cols):\n",
    "            if Amat[j,k]==1:\n",
    "                indegree[k]-=1\n",
    "    return(topsortlist)\n",
    "\n",
    "# A List code\n",
    "def topsortList(Alist):\n",
    "    (indegree,topsortlist)=({},[])\n",
    "    for u in Alist.keys():\n",
    "        indegree[u]=0\n",
    "    for u in Alist.keys():\n",
    "        for v in Alist[u]:\n",
    "            indegree[v]+=1\n",
    "    zerodegreeQ=Queue()\n",
    "    for u in Alist.keys():\n",
    "        if indegree[u]==0:\n",
    "            zerodegreeQ.addq(u)\n",
    "    while(not zerodegreeQ.isimpty()):\n",
    "        j=zerodegreeQ.delq()\n",
    "        topsortlist.append(j)\n",
    "        indegree[j]-=1\n",
    "        for k in Alist[j]:\n",
    "            indegree[k]-=1\n",
    "            if indegree[k]==0:\n",
    "                zerodegreeQ.addq(k)\n",
    "    return (topsortlist)\n"
   ]
  },
  {
   "cell_type": "markdown",
   "metadata": {},
   "source": [
    "# Longest Path in Directed Acyclic Graphs\n",
    "\n",
    "> **Time Complexity**: O(m+n)"
   ]
  },
  {
   "cell_type": "code",
   "execution_count": 2,
   "metadata": {},
   "outputs": [],
   "source": [
    "# using Adjacency List\n",
    "def longpathlist(Alist):\n",
    "    (indeg,lpath)=({},{})\n",
    "    for u in Alist.keys():\n",
    "        for v in Alist[u]:\n",
    "            indeg[v]+=1\n",
    "    zerodegreeQ=Queue()\n",
    "    for u in Alist.keys():\n",
    "        if indeg[u]==0:\n",
    "            zerodegreeQ.addq(u)\n",
    "    while(not zerodegreeQ.isimpty()):\n",
    "        j=zerodegreeQ.delq(u)\n",
    "        indeg[j]-=1\n",
    "        for k in Alist[j]:\n",
    "            indeg[k]-=1\n",
    "            lpath[k]=max(lpath[k],lpath[j]+1)\n",
    "            if indeg[k]==0:\n",
    "                zerodegreeQ.addq(k)\n",
    "    return lpath      "
   ]
  },
  {
   "cell_type": "markdown",
   "metadata": {},
   "source": [
    "# Dijkstra's Agorithm ( Single source shortest path)\n",
    "> Dijkstra's algorithm is an algorithm that is used to solve the shortest distance problem. That is, we use it to find the shortest distance between two vertices on a graph. Depending on what the graph represents, we can find shortest routes, minimum costs, etc."
   ]
  },
  {
   "cell_type": "code",
   "execution_count": 3,
   "metadata": {},
   "outputs": [],
   "source": [
    "# using Adjacency Matrix\n",
    "def dijkstra(Amat,s):\n",
    "    (rows,cols,x)=Amat.shape\n",
    "    infi=np.max(Amat)*rows+1\n",
    "    (visited,distance)=({},{})\n",
    "    for v in range(rows):\n",
    "        (visited[v],distance[v])=(False,infi)\n",
    "    distance[s]=0\n",
    "    for u in range(rows):\n",
    "        nextd=min([distance[v] for v in range(rows) if (not visited[v])])\n",
    "        nextvlist=[v for v in range(rows) if (not visited[v]) and distance[v]==nextd]\n",
    "        if nextvlist==[]:\n",
    "            break\n",
    "        nextv=min(nextvlist)\n",
    "        visited[nextv]=True\n",
    "        for v in range(cols):\n",
    "            if Amat[nextv,v,0]==1 and (not visited[v]):\n",
    "                distance[v]=min(distance[v],distance[nextv]+Wmat[nextv,v,1])\n",
    "    return distance\n",
    "\n",
    "# using Adjacency List\n",
    "def dijlist(Alist,s):\n",
    "    infi=1+len(Alist.keys())*max([d for u in Alist.keys() for (v,d) in Alist[u]])\n",
    "    (visited,distance)=({},{})\n",
    "    for v in Alist.keys():\n",
    "        (visited[v],distance[v])=(False,infi)\n",
    "    distance[s]=0\n",
    "    for u in Alist.keys():\n",
    "        nextd=min([distance[v] for v in range(rows) if (not visited[v])])\n",
    "        nextvlist=[v for v in range(rows) if (not visited[v]) and distance[v]==nextd]\n",
    "        if nextvlist==[]:\n",
    "            break\n",
    "        nextv=min(nextvlist)\n",
    "        visited[nextv]=True\n",
    "        for (v,d) in AList[nextv]:\n",
    "            if not visited[v]:\n",
    "                distance[v]=min(distance[v],distance[nextv])\n",
    "    return distance"
   ]
  },
  {
   "cell_type": "markdown",
   "metadata": {},
   "source": [
    "# Bellman Ford Algorithm\n",
    "> **Time Complexity** - O(n^3)"
   ]
  },
  {
   "cell_type": "code",
   "execution_count": 2,
   "metadata": {},
   "outputs": [],
   "source": [
    "def bellman(Amat, s):\n",
    "    (rows,cols,x)=Amat.shape\n",
    "    infi=np.max(Amat)*rows+1\n",
    "    distance={}\n",
    "    for v in range(rows):\n",
    "        distance[v]=infi\n",
    "    distance[s]=0\n",
    "    for i in range(rows):\n",
    "        for j in range(rows):\n",
    "            for k in range(cols):\n",
    "                if Amat[j,k,0]==1:\n",
    "                    distance[k]=min(distance[k],distance[j]+Amat[j,k,1])\n",
    "    return distance\n",
    "\n",
    "\n",
    "## Adjacency List\n",
    "def bellmanlist(Alist,s):\n",
    "    infi=1+len(Alist.keys())*max([d for u in Alist.keys() for (v,d) in Alist.keys()])\n",
    "    distance={}\n",
    "    for v in Alist.keys():\n",
    "        distance[v]=infi\n",
    "    distance[s]=0\n",
    "    for i in Alist.keys():\n",
    "        for j in Alist.keys():\n",
    "            for (k,d) in Alist[j]:\n",
    "                distance[k]=min(distance[k],distance[j]+d)\n",
    "    return distance\n",
    "                \n",
    "    "
   ]
  },
  {
   "cell_type": "markdown",
   "metadata": {},
   "source": [
    "# Floyd-Warshall Algorithm\n",
    "> **Time Complexity** : O(n^3)"
   ]
  },
  {
   "cell_type": "code",
   "execution_count": null,
   "metadata": {},
   "outputs": [],
   "source": [
    "def floyd(Amat):\n",
    "    (rows,col,x)=Amat.shape\n",
    "    infi=np.max(Amat)*rows*rows+1\n",
    "    SP=np.zeros(shape=(rows,cols,cols+1))\n",
    "    for i in range(rows):\n",
    "        for i in range(cols):\n",
    "            SpP[i,j,0]=infi\n",
    "    for i in range(rows):\n",
    "        for j in range(cols):\n",
    "            if Amat[i,j,0]==1:\n",
    "                SP[i,j,0]=Amat[i,j,1]\n",
    "    for k in range(cols+1):\n",
    "        for j in range(rows):\n",
    "            for i in range(cols):\n",
    "                SP[i,j,k]=min(SP[i,j,k-1],SP[i,k-1,k-1]+SP[K-1,j,])"
   ]
  }
 ],
 "metadata": {
  "kernelspec": {
   "display_name": "Python 3",
   "language": "python",
   "name": "python3"
  },
  "language_info": {
   "codemirror_mode": {
    "name": "ipython",
    "version": 3
   },
   "file_extension": ".py",
   "mimetype": "text/x-python",
   "name": "python",
   "nbconvert_exporter": "python",
   "pygments_lexer": "ipython3",
   "version": "3.8.5"
  }
 },
 "nbformat": 4,
 "nbformat_minor": 4
}
